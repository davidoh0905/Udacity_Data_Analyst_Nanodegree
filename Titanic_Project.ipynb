{
 "cells": [
  {
   "cell_type": "markdown",
   "metadata": {},
   "source": [
    "# Question : What are the order of contributing factors that affects survival rate of passengers of Titanic?\n",
    "\n",
    "- we are going to use the concept of Entropy in order to numerically present how well one factor contributes to dividing population into survived and non-survived group.\n",
    "- we are also going to confirm this value by visually displaying how each group divided my the factor shows different survival rate"
   ]
  },
  {
   "cell_type": "markdown",
   "metadata": {
    "collapsed": true
   },
   "source": [
    "## Creating pretty markdown\n",
    "\n",
    "The raw data behind this is ** Titanic Survival Data **, which you can get from [here](https://www.kaggle.com/c/titanic)."
   ]
  },
  {
   "cell_type": "code",
   "execution_count": 1,
   "metadata": {
    "collapsed": true
   },
   "outputs": [],
   "source": [
    "# Imports\n",
    "\n",
    "# pandas\n",
    "import pandas as pd\n",
    "from pandas import Series,DataFrame\n",
    "\n",
    "# numpy, matplotlib, seaborn\n",
    "import numpy as np\n",
    "import matplotlib.pyplot as plt\n",
    "import seaborn as sns\n",
    "sns.set_style('whitegrid')\n",
    "%matplotlib inline\n",
    "\n",
    "# machine learning\n",
    "from sklearn.linear_model import LogisticRegression\n",
    "from sklearn.svm import SVC, LinearSVC\n",
    "from sklearn.ensemble import RandomForestClassifier\n",
    "from sklearn.neighbors import KNeighborsClassifier\n",
    "from sklearn.naive_bayes import GaussianNB"
   ]
  },
  {
   "cell_type": "markdown",
   "metadata": {},
   "source": [
    "## Reading the data and summarizing with info() and describe()"
   ]
  },
  {
   "cell_type": "code",
   "execution_count": 2,
   "metadata": {
    "collapsed": true
   },
   "outputs": [],
   "source": [
    "titanic_df = pd.read_csv('titanic_data.csv')"
   ]
  },
  {
   "cell_type": "code",
   "execution_count": 3,
   "metadata": {
    "collapsed": false
   },
   "outputs": [
    {
     "name": "stdout",
     "output_type": "stream",
     "text": [
      "<class 'pandas.core.frame.DataFrame'>\n",
      "RangeIndex: 891 entries, 0 to 890\n",
      "Data columns (total 12 columns):\n",
      "PassengerId    891 non-null int64\n",
      "Survived       891 non-null int64\n",
      "Pclass         891 non-null int64\n",
      "Name           891 non-null object\n",
      "Sex            891 non-null object\n",
      "Age            714 non-null float64\n",
      "SibSp          891 non-null int64\n",
      "Parch          891 non-null int64\n",
      "Ticket         891 non-null object\n",
      "Fare           891 non-null float64\n",
      "Cabin          204 non-null object\n",
      "Embarked       889 non-null object\n",
      "dtypes: float64(2), int64(5), object(5)\n",
      "memory usage: 83.6+ KB\n",
      "----------------------------\n"
     ]
    }
   ],
   "source": [
    "titanic_df.info()\n",
    "print(\"----------------------------\")"
   ]
  },
  {
   "cell_type": "code",
   "execution_count": 4,
   "metadata": {
    "collapsed": false
   },
   "outputs": [
    {
     "data": {
      "text/html": [
       "<div>\n",
       "<table border=\"1\" class=\"dataframe\">\n",
       "  <thead>\n",
       "    <tr style=\"text-align: right;\">\n",
       "      <th></th>\n",
       "      <th>PassengerId</th>\n",
       "      <th>Survived</th>\n",
       "      <th>Pclass</th>\n",
       "      <th>Age</th>\n",
       "      <th>SibSp</th>\n",
       "      <th>Parch</th>\n",
       "      <th>Fare</th>\n",
       "    </tr>\n",
       "  </thead>\n",
       "  <tbody>\n",
       "    <tr>\n",
       "      <th>count</th>\n",
       "      <td>891.000000</td>\n",
       "      <td>891.000000</td>\n",
       "      <td>891.000000</td>\n",
       "      <td>714.000000</td>\n",
       "      <td>891.000000</td>\n",
       "      <td>891.000000</td>\n",
       "      <td>891.000000</td>\n",
       "    </tr>\n",
       "    <tr>\n",
       "      <th>mean</th>\n",
       "      <td>446.000000</td>\n",
       "      <td>0.383838</td>\n",
       "      <td>2.308642</td>\n",
       "      <td>29.699118</td>\n",
       "      <td>0.523008</td>\n",
       "      <td>0.381594</td>\n",
       "      <td>32.204208</td>\n",
       "    </tr>\n",
       "    <tr>\n",
       "      <th>std</th>\n",
       "      <td>257.353842</td>\n",
       "      <td>0.486592</td>\n",
       "      <td>0.836071</td>\n",
       "      <td>14.526497</td>\n",
       "      <td>1.102743</td>\n",
       "      <td>0.806057</td>\n",
       "      <td>49.693429</td>\n",
       "    </tr>\n",
       "    <tr>\n",
       "      <th>min</th>\n",
       "      <td>1.000000</td>\n",
       "      <td>0.000000</td>\n",
       "      <td>1.000000</td>\n",
       "      <td>0.420000</td>\n",
       "      <td>0.000000</td>\n",
       "      <td>0.000000</td>\n",
       "      <td>0.000000</td>\n",
       "    </tr>\n",
       "    <tr>\n",
       "      <th>25%</th>\n",
       "      <td>223.500000</td>\n",
       "      <td>0.000000</td>\n",
       "      <td>2.000000</td>\n",
       "      <td>20.125000</td>\n",
       "      <td>0.000000</td>\n",
       "      <td>0.000000</td>\n",
       "      <td>7.910400</td>\n",
       "    </tr>\n",
       "    <tr>\n",
       "      <th>50%</th>\n",
       "      <td>446.000000</td>\n",
       "      <td>0.000000</td>\n",
       "      <td>3.000000</td>\n",
       "      <td>28.000000</td>\n",
       "      <td>0.000000</td>\n",
       "      <td>0.000000</td>\n",
       "      <td>14.454200</td>\n",
       "    </tr>\n",
       "    <tr>\n",
       "      <th>75%</th>\n",
       "      <td>668.500000</td>\n",
       "      <td>1.000000</td>\n",
       "      <td>3.000000</td>\n",
       "      <td>38.000000</td>\n",
       "      <td>1.000000</td>\n",
       "      <td>0.000000</td>\n",
       "      <td>31.000000</td>\n",
       "    </tr>\n",
       "    <tr>\n",
       "      <th>max</th>\n",
       "      <td>891.000000</td>\n",
       "      <td>1.000000</td>\n",
       "      <td>3.000000</td>\n",
       "      <td>80.000000</td>\n",
       "      <td>8.000000</td>\n",
       "      <td>6.000000</td>\n",
       "      <td>512.329200</td>\n",
       "    </tr>\n",
       "  </tbody>\n",
       "</table>\n",
       "</div>"
      ],
      "text/plain": [
       "       PassengerId    Survived      Pclass         Age       SibSp  \\\n",
       "count   891.000000  891.000000  891.000000  714.000000  891.000000   \n",
       "mean    446.000000    0.383838    2.308642   29.699118    0.523008   \n",
       "std     257.353842    0.486592    0.836071   14.526497    1.102743   \n",
       "min       1.000000    0.000000    1.000000    0.420000    0.000000   \n",
       "25%     223.500000    0.000000    2.000000   20.125000    0.000000   \n",
       "50%     446.000000    0.000000    3.000000   28.000000    0.000000   \n",
       "75%     668.500000    1.000000    3.000000   38.000000    1.000000   \n",
       "max     891.000000    1.000000    3.000000   80.000000    8.000000   \n",
       "\n",
       "            Parch        Fare  \n",
       "count  891.000000  891.000000  \n",
       "mean     0.381594   32.204208  \n",
       "std      0.806057   49.693429  \n",
       "min      0.000000    0.000000  \n",
       "25%      0.000000    7.910400  \n",
       "50%      0.000000   14.454200  \n",
       "75%      0.000000   31.000000  \n",
       "max      6.000000  512.329200  "
      ]
     },
     "execution_count": 4,
     "metadata": {},
     "output_type": "execute_result"
    }
   ],
   "source": [
    "titanic_df.describe()"
   ]
  },
  {
   "cell_type": "code",
   "execution_count": 5,
   "metadata": {
    "collapsed": false
   },
   "outputs": [
    {
     "data": {
      "text/html": [
       "<div>\n",
       "<table border=\"1\" class=\"dataframe\">\n",
       "  <thead>\n",
       "    <tr style=\"text-align: right;\">\n",
       "      <th></th>\n",
       "      <th>PassengerId</th>\n",
       "      <th>Survived</th>\n",
       "      <th>Pclass</th>\n",
       "      <th>Name</th>\n",
       "      <th>Sex</th>\n",
       "      <th>Age</th>\n",
       "      <th>SibSp</th>\n",
       "      <th>Parch</th>\n",
       "      <th>Ticket</th>\n",
       "      <th>Fare</th>\n",
       "      <th>Cabin</th>\n",
       "      <th>Embarked</th>\n",
       "    </tr>\n",
       "  </thead>\n",
       "  <tbody>\n",
       "    <tr>\n",
       "      <th>0</th>\n",
       "      <td>1</td>\n",
       "      <td>0</td>\n",
       "      <td>3</td>\n",
       "      <td>Braund, Mr. Owen Harris</td>\n",
       "      <td>male</td>\n",
       "      <td>22.0</td>\n",
       "      <td>1</td>\n",
       "      <td>0</td>\n",
       "      <td>A/5 21171</td>\n",
       "      <td>7.2500</td>\n",
       "      <td>NaN</td>\n",
       "      <td>S</td>\n",
       "    </tr>\n",
       "    <tr>\n",
       "      <th>1</th>\n",
       "      <td>2</td>\n",
       "      <td>1</td>\n",
       "      <td>1</td>\n",
       "      <td>Cumings, Mrs. John Bradley (Florence Briggs Th...</td>\n",
       "      <td>female</td>\n",
       "      <td>38.0</td>\n",
       "      <td>1</td>\n",
       "      <td>0</td>\n",
       "      <td>PC 17599</td>\n",
       "      <td>71.2833</td>\n",
       "      <td>C85</td>\n",
       "      <td>C</td>\n",
       "    </tr>\n",
       "    <tr>\n",
       "      <th>2</th>\n",
       "      <td>3</td>\n",
       "      <td>1</td>\n",
       "      <td>3</td>\n",
       "      <td>Heikkinen, Miss. Laina</td>\n",
       "      <td>female</td>\n",
       "      <td>26.0</td>\n",
       "      <td>0</td>\n",
       "      <td>0</td>\n",
       "      <td>STON/O2. 3101282</td>\n",
       "      <td>7.9250</td>\n",
       "      <td>NaN</td>\n",
       "      <td>S</td>\n",
       "    </tr>\n",
       "    <tr>\n",
       "      <th>3</th>\n",
       "      <td>4</td>\n",
       "      <td>1</td>\n",
       "      <td>1</td>\n",
       "      <td>Futrelle, Mrs. Jacques Heath (Lily May Peel)</td>\n",
       "      <td>female</td>\n",
       "      <td>35.0</td>\n",
       "      <td>1</td>\n",
       "      <td>0</td>\n",
       "      <td>113803</td>\n",
       "      <td>53.1000</td>\n",
       "      <td>C123</td>\n",
       "      <td>S</td>\n",
       "    </tr>\n",
       "    <tr>\n",
       "      <th>4</th>\n",
       "      <td>5</td>\n",
       "      <td>0</td>\n",
       "      <td>3</td>\n",
       "      <td>Allen, Mr. William Henry</td>\n",
       "      <td>male</td>\n",
       "      <td>35.0</td>\n",
       "      <td>0</td>\n",
       "      <td>0</td>\n",
       "      <td>373450</td>\n",
       "      <td>8.0500</td>\n",
       "      <td>NaN</td>\n",
       "      <td>S</td>\n",
       "    </tr>\n",
       "  </tbody>\n",
       "</table>\n",
       "</div>"
      ],
      "text/plain": [
       "   PassengerId  Survived  Pclass  \\\n",
       "0            1         0       3   \n",
       "1            2         1       1   \n",
       "2            3         1       3   \n",
       "3            4         1       1   \n",
       "4            5         0       3   \n",
       "\n",
       "                                                Name     Sex   Age  SibSp  \\\n",
       "0                            Braund, Mr. Owen Harris    male  22.0      1   \n",
       "1  Cumings, Mrs. John Bradley (Florence Briggs Th...  female  38.0      1   \n",
       "2                             Heikkinen, Miss. Laina  female  26.0      0   \n",
       "3       Futrelle, Mrs. Jacques Heath (Lily May Peel)  female  35.0      1   \n",
       "4                           Allen, Mr. William Henry    male  35.0      0   \n",
       "\n",
       "   Parch            Ticket     Fare Cabin Embarked  \n",
       "0      0         A/5 21171   7.2500   NaN        S  \n",
       "1      0          PC 17599  71.2833   C85        C  \n",
       "2      0  STON/O2. 3101282   7.9250   NaN        S  \n",
       "3      0            113803  53.1000  C123        S  \n",
       "4      0            373450   8.0500   NaN        S  "
      ]
     },
     "execution_count": 5,
     "metadata": {},
     "output_type": "execute_result"
    }
   ],
   "source": [
    "titanic_df.head()"
   ]
  },
  {
   "cell_type": "code",
   "execution_count": null,
   "metadata": {
    "collapsed": false
   },
   "outputs": [],
   "source": []
  },
  {
   "cell_type": "code",
   "execution_count": null,
   "metadata": {
    "collapsed": false
   },
   "outputs": [],
   "source": []
  },
  {
   "cell_type": "markdown",
   "metadata": {},
   "source": [
    "# Selecting Informative Attribute\n",
    "## Entorpy\n",
    "- we would like to measure how **informative an attribute is with respect to our target**: how much gain in information it gives us about the value of the target variable(Survived. \n",
    "- An attribute segments a set of instances into several subsets. Entropy only tells us how impure one individual subset is. \n",
    "\n",
    "- with entropy to measure how disordered any set is, we can define information gain(IG) to measure how much an attribute improves(decreases) entropy over the whole segmenation it creates. strictly speaking, information gain measures the change in entropy due to any amount of new information being added.\n",
    "\n",
    "## Information gain\n",
    "- IG(parnet, children = entropy(parnet) - [p(c1)*entropy(c1) + p(c2)*entropy(c2) + ... ]\n",
    "\n",
    "-- quote from 'Data Science For Business'"
   ]
  },
  {
   "cell_type": "markdown",
   "metadata": {},
   "source": [
    "## Function to Calculate Entropy"
   ]
  },
  {
   "cell_type": "code",
   "execution_count": 6,
   "metadata": {
    "collapsed": false
   },
   "outputs": [],
   "source": [
    "def Entropy(x):\n",
    "    count_by_values = pd.Series(x).value_counts()\n",
    "    proportion_by_values = count_by_values/len(x)\n",
    "    entropy_list = []\n",
    "\n",
    "    #print(proportion_by_values)\n",
    "    for i in range(len(proportion_by_values)):\n",
    "        p = proportion_by_values.iloc[i]\n",
    "        entropy_list.append(-p*np.log2(p))\n",
    "        print(p,-np.log2(p) )\n",
    "        \n",
    "    entropy_series_sum = pd.DataFrame(entropy_list).sum().values    \n",
    "    return float(entropy_series_sum)"
   ]
  },
  {
   "cell_type": "markdown",
   "metadata": {},
   "source": [
    "### Entrophy of the entire dataset is\n",
    "- Entropy can range from 0 to 1. If it is close to 1 that means the instance is well balanced. \n",
    "- global_entropy: Entropy of the entire dataset is close to 1 which means the Survived=0 and Survived=1 are well balanced"
   ]
  },
  {
   "cell_type": "code",
   "execution_count": 7,
   "metadata": {
    "collapsed": false
   },
   "outputs": [
    {
     "name": "stdout",
     "output_type": "stream",
     "text": [
      "0.616161616162 0.698619282517\n",
      "0.383838383838 1.38142910664\n",
      "Entropy of the entire dataset is 0.9607079018756469\n"
     ]
    }
   ],
   "source": [
    "global_entropy = Entropy(titanic_df.Survived)\n",
    "print ( \"Entropy of the entire dataset is {}\".format(global_entropy))"
   ]
  },
  {
   "cell_type": "markdown",
   "metadata": {},
   "source": [
    "## Calculate the children entrophy 1 : Sex"
   ]
  },
  {
   "cell_type": "markdown",
   "metadata": {},
   "source": [
    "#### split the dataframe by attribute values"
   ]
  },
  {
   "cell_type": "code",
   "execution_count": 8,
   "metadata": {
    "collapsed": false
   },
   "outputs": [
    {
     "data": {
      "text/plain": [
       "array(['male', 'female'], dtype=object)"
      ]
     },
     "execution_count": 8,
     "metadata": {},
     "output_type": "execute_result"
    }
   ],
   "source": [
    "titanic_df.Sex.unique()"
   ]
  },
  {
   "cell_type": "code",
   "execution_count": 9,
   "metadata": {
    "collapsed": false
   },
   "outputs": [
    {
     "name": "stdout",
     "output_type": "stream",
     "text": [
      "0.811091854419 0.302062789062\n",
      "0.188908145581 2.40424318387\n",
      "entropy of male.Survived is 0.6991817891208407\n",
      "male proportion is: 0.6475869809203143\n",
      "0.742038216561 0.430434604237\n",
      "0.257961783439 1.95477074601\n",
      "entropy of female.Survived is 0.8236550739295191\n",
      "female proportion is: 0.35241301907968575\n",
      "0.811091854419 0.302062789062\n",
      "0.188908145581 2.40424318387\n",
      "0.742038216561 0.430434604237\n",
      "0.257961783439 1.95477074601\n",
      "Sex Entropy is:0.7430477952150327\n"
     ]
    }
   ],
   "source": [
    "male = titanic_df[titanic_df.Sex == 'male'][['Survived']]\n",
    "male_proportion = len(male) / len(titanic_df)\n",
    "female = titanic_df[titanic_df.Sex == 'female'][['Survived']]\n",
    "female_proportion = len(female) / len(titanic_df)\n",
    "\n",
    "print('entropy of male.Survived is {}'.format(Entropy(male.Survived)))\n",
    "print('male proportion is: {}'.format(male_proportion))\n",
    "print('entropy of female.Survived is {}'.format(Entropy(female.Survived)))\n",
    "print('female proportion is: {}'.format(female_proportion))\n",
    "\n",
    "Sex_entropy = Entropy(male.Survived)*male_proportion + Entropy(female.Survived)*female_proportion\n",
    "print('Sex Entropy is:{}'.format(Sex_entropy))"
   ]
  },
  {
   "cell_type": "markdown",
   "metadata": {},
   "source": [
    "## Information Gain Sex attribute\n",
    "- this split reduces entropy bty 0.21. In predictive modeling terms, the attribute provides a lot of information on the value of the target."
   ]
  },
  {
   "cell_type": "code",
   "execution_count": 10,
   "metadata": {
    "collapsed": false
   },
   "outputs": [
    {
     "data": {
      "text/plain": [
       "0.2176601066606142"
      ]
     },
     "execution_count": 10,
     "metadata": {},
     "output_type": "execute_result"
    }
   ],
   "source": [
    "global_entropy - Sex_entropy"
   ]
  },
  {
   "cell_type": "markdown",
   "metadata": {},
   "source": [
    "## difference in Survival rate of male and female\n",
    "- significantly different!\n",
    "- let's visually observe the different of survival rate between male and female. \n",
    "- X axis is Sex and Y axis is survival rate"
   ]
  },
  {
   "cell_type": "code",
   "execution_count": 11,
   "metadata": {
    "collapsed": false
   },
   "outputs": [
    {
     "data": {
      "text/plain": [
       "<seaborn.axisgrid.FacetGrid at 0xb4ae780>"
      ]
     },
     "execution_count": 11,
     "metadata": {},
     "output_type": "execute_result"
    },
    {
     "data": {
      "image/png": "[encoded data removed]",
      "text/plain": [
       "<matplotlib.figure.Figure at 0xb4ae828>"
      ]
     },
     "metadata": {},
     "output_type": "display_data"
    }
   ],
   "source": [
    "sns.factorplot('Sex','Survived',order=['male', 'female'], data=titanic_df,size=5)"
   ]
  },
  {
   "cell_type": "markdown",
   "metadata": {},
   "source": [
    "## Calculate the children entrophy 2 : PClass"
   ]
  },
  {
   "cell_type": "code",
   "execution_count": 12,
   "metadata": {
    "collapsed": false
   },
   "outputs": [
    {
     "data": {
      "text/plain": [
       "array([3, 1, 2], dtype=int64)"
      ]
     },
     "execution_count": 12,
     "metadata": {},
     "output_type": "execute_result"
    }
   ],
   "source": [
    "titanic_df.Pclass.unique()"
   ]
  },
  {
   "cell_type": "code",
   "execution_count": 13,
   "metadata": {
    "collapsed": false
   },
   "outputs": [
    {
     "name": "stdout",
     "output_type": "stream",
     "text": [
      "0.62962962963 0.667424660913\n",
      "0.37037037037 1.43295940728\n",
      "0.527173913043 0.92364911387\n",
      "0.472826086957 1.08061846021\n",
      "0.757637474542 0.400420403207\n",
      "0.242362525458 2.04476145101\n",
      "Pclass Entropy is:0.8768768565796353\n"
     ]
    }
   ],
   "source": [
    "class1 = titanic_df[titanic_df.Pclass == 1][['Survived']]\n",
    "class1_proportion = len(class1) / len(titanic_df)\n",
    "class2 = titanic_df[titanic_df.Pclass == 2][['Survived']]\n",
    "class2_proportion = len(class2) / len(titanic_df)\n",
    "class3 = titanic_df[titanic_df.Pclass == 3][['Survived']]\n",
    "class3_proportion = len(class3) / len(titanic_df)\n",
    "\n",
    "\n",
    "Pclass_entropy = Entropy(class1.Survived)*class1_proportion + Entropy(class2.Survived)*class2_proportion + Entropy(class3.Survived)*class3_proportion\n",
    "\n",
    "print('Pclass Entropy is:{}'.format(Pclass_entropy))"
   ]
  },
  {
   "cell_type": "markdown",
   "metadata": {},
   "source": [
    "## Information Garin from Pclass attribute\n",
    "- smaller information gain than Sex. so this contribues less to the target variable than Sex\n",
    "- but still it reduces entropy of the entire dataset by 0.08. not a neglectible amount"
   ]
  },
  {
   "cell_type": "code",
   "execution_count": 14,
   "metadata": {
    "collapsed": false
   },
   "outputs": [
    {
     "data": {
      "text/plain": [
       "0.0838310452960116"
      ]
     },
     "execution_count": 14,
     "metadata": {},
     "output_type": "execute_result"
    }
   ],
   "source": [
    "global_entropy - Pclass_entropy"
   ]
  },
  {
   "cell_type": "markdown",
   "metadata": {},
   "source": [
    "### for more information about seaborn factorplot [click here](http://blog.insightdatalabs.com/advanced-functionality-in-seaborn/)\n",
    "- higher class has better survival rate\n",
    "- let's visually observe the survival rate of each Pclass"
   ]
  },
  {
   "cell_type": "code",
   "execution_count": 15,
   "metadata": {
    "collapsed": false
   },
   "outputs": [
    {
     "data": {
      "text/plain": [
       "<seaborn.axisgrid.FacetGrid at 0xb4ae630>"
      ]
     },
     "execution_count": 15,
     "metadata": {},
     "output_type": "execute_result"
    },
    {
     "data": {
      "image/png": "[encoded data removed]",
      "text/plain": [
       "<matplotlib.figure.Figure at 0xb4ae6d8>"
      ]
     },
     "metadata": {},
     "output_type": "display_data"
    }
   ],
   "source": [
    "sns.factorplot('Pclass','Survived',order=[1,2,3], data=titanic_df,size=5)"
   ]
  },
  {
   "cell_type": "markdown",
   "metadata": {},
   "source": [
    "## Calculate the children entrophy 3: SibSp"
   ]
  },
  {
   "cell_type": "code",
   "execution_count": 16,
   "metadata": {
    "collapsed": false
   },
   "outputs": [
    {
     "data": {
      "text/plain": [
       "array([1, 0, 3, 4, 2, 5, 8], dtype=int64)"
      ]
     },
     "execution_count": 16,
     "metadata": {},
     "output_type": "execute_result"
    }
   ],
   "source": [
    "titanic_df.SibSp.unique()"
   ]
  },
  {
   "cell_type": "code",
   "execution_count": 17,
   "metadata": {
    "collapsed": false
   },
   "outputs": [
    {
     "data": {
      "text/plain": [
       "0    608\n",
       "1    209\n",
       "2     28\n",
       "4     18\n",
       "3     16\n",
       "8      7\n",
       "5      5\n",
       "dtype: int64"
      ]
     },
     "execution_count": 17,
     "metadata": {},
     "output_type": "execute_result"
    }
   ],
   "source": [
    "pd.value_counts(titanic_df['SibSp'].values)"
   ]
  },
  {
   "cell_type": "markdown",
   "metadata": {},
   "source": [
    "## let's visually observe the difference in survival rate based on how many siblins and spouse they have"
   ]
  },
  {
   "cell_type": "code",
   "execution_count": 18,
   "metadata": {
    "collapsed": false
   },
   "outputs": [
    {
     "data": {
      "text/plain": [
       "<seaborn.axisgrid.FacetGrid at 0xbdd4c50>"
      ]
     },
     "execution_count": 18,
     "metadata": {},
     "output_type": "execute_result"
    },
    {
     "data": {
      "image/png": "[encoded data removed]",
      "text/plain": [
       "<matplotlib.figure.Figure at 0xbda43c8>"
      ]
     },
     "metadata": {},
     "output_type": "display_data"
    }
   ],
   "source": [
    "sns.factorplot('SibSp','Survived', data=titanic_df,size=5)\n",
    "# I guess the percentage is available by simply using factorplot because Survived column have only 0 and 1\n",
    "# and the average value turns out to be the percentage of survival rate."
   ]
  },
  {
   "cell_type": "markdown",
   "metadata": {},
   "source": [
    "- this gives me some idea how I should categorize the values\n",
    "- I will divide the population into 0, 12, 3458. by intuition"
   ]
  },
  {
   "cell_type": "code",
   "execution_count": 19,
   "metadata": {
    "collapsed": false
   },
   "outputs": [
    {
     "name": "stdout",
     "output_type": "stream",
     "text": [
      "0.654605263158 0.6113028929\n",
      "0.345394736842 1.53368199578\n",
      "0.535885167464 0.900004210023\n",
      "0.464114832536 1.10744628989\n",
      "0.847826086957 0.238159737195\n",
      "0.152173913043 2.716207034\n",
      "SibSp Entropy is:0.8999957476075591\n"
     ]
    }
   ],
   "source": [
    "SibSp0 = titanic_df[titanic_df.SibSp == 0][['Survived']]\n",
    "SibSp0_proportion = len(SibSp0) / len(titanic_df)\n",
    "SibSp12 = titanic_df[titanic_df.SibSp == 1 | (titanic_df.SibSp == 2)][['Survived']]\n",
    "SibSp12_proportion = len(SibSp12) / len(titanic_df)\n",
    "SibSp3458 = titanic_df[(titanic_df.SibSp == 3) |(titanic_df.SibSp == 4) | (titanic_df.SibSp == 5) | (titanic_df.SibSp == 8)][['Survived']]\n",
    "SibSp3458_proportion = len(SibSp3458) / len(titanic_df)\n",
    "\n",
    "SibSp_entropy = Entropy(SibSp0.Survived)*SibSp0_proportion + Entropy(SibSp12.Survived)*SibSp12_proportion + Entropy(SibSp3458.Survived)*SibSp3458_proportion \n",
    "\n",
    "print('SibSp Entropy is:{}'.format(SibSp_entropy))\n"
   ]
  },
  {
   "cell_type": "markdown",
   "metadata": {},
   "source": [
    "## Information Gain from SibSp\n",
    "- it is the lowest so far.\n",
    "- 0.06"
   ]
  },
  {
   "cell_type": "code",
   "execution_count": 20,
   "metadata": {
    "collapsed": false,
    "scrolled": true
   },
   "outputs": [
    {
     "data": {
      "text/plain": [
       "0.06071215426808785"
      ]
     },
     "execution_count": 20,
     "metadata": {},
     "output_type": "execute_result"
    }
   ],
   "source": [
    "global_entropy - SibSp_entropy"
   ]
  },
  {
   "cell_type": "markdown",
   "metadata": {},
   "source": [
    "## Calculate the children entrophy 4: Parch"
   ]
  },
  {
   "cell_type": "code",
   "execution_count": 21,
   "metadata": {
    "collapsed": false
   },
   "outputs": [
    {
     "data": {
      "text/plain": [
       "<seaborn.axisgrid.FacetGrid at 0xbe6d240>"
      ]
     },
     "execution_count": 21,
     "metadata": {},
     "output_type": "execute_result"
    },
    {
     "data": {
      "image/png": "[encoded data removed]",
      "text/plain": [
       "<matplotlib.figure.Figure at 0xbe6d3c8>"
      ]
     },
     "metadata": {},
     "output_type": "display_data"
    }
   ],
   "source": [
    "#titanic_df[['Parch','SibSp','Survived']]\n",
    "sns.factorplot('Parch','Survived', data=titanic_df,size=5)"
   ]
  },
  {
   "cell_type": "code",
   "execution_count": 22,
   "metadata": {
    "collapsed": false,
    "scrolled": true
   },
   "outputs": [
    {
     "data": {
      "text/plain": [
       "0    678\n",
       "1    118\n",
       "2     80\n",
       "5      5\n",
       "3      5\n",
       "4      4\n",
       "6      1\n",
       "dtype: int64"
      ]
     },
     "execution_count": 22,
     "metadata": {},
     "output_type": "execute_result"
    }
   ],
   "source": [
    "pd.value_counts(titanic_df['Parch'].values)"
   ]
  },
  {
   "cell_type": "markdown",
   "metadata": {},
   "source": [
    "- this does not look like it's going to give me much insightb\n",
    "- I thought it was a good idea to sum up SibSp and Parch column so that we can divide the group into Alone and With Family.\n",
    "- Idea taken from [Kaggle Example](https://www.kaggle.com/omarelgabry/titanic/a-journey-through-titanic/comments)"
   ]
  },
  {
   "cell_type": "markdown",
   "metadata": {},
   "source": [
    "## Data Manipulation for Family Attribute"
   ]
  },
  {
   "cell_type": "code",
   "execution_count": 23,
   "metadata": {
    "collapsed": true
   },
   "outputs": [],
   "source": [
    "# 1. Create a new column called Family and give value of 0 and 1\n",
    "#  - add up two columns and name it Family\n",
    "#  - if the Family value is 0 then leave it at that and if the family value it bigger than 0 then change it to 1"
   ]
  },
  {
   "cell_type": "code",
   "execution_count": 24,
   "metadata": {
    "collapsed": true
   },
   "outputs": [],
   "source": [
    "# Creating new column in DataFrame\n",
    "titanic_df[\"Family\"] = titanic_df['SibSp'] + titanic_df['Parch']"
   ]
  },
  {
   "cell_type": "code",
   "execution_count": 25,
   "metadata": {
    "collapsed": false
   },
   "outputs": [
    {
     "data": {
      "text/html": [
       "<div>\n",
       "<table border=\"1\" class=\"dataframe\">\n",
       "  <thead>\n",
       "    <tr style=\"text-align: right;\">\n",
       "      <th></th>\n",
       "      <th>PassengerId</th>\n",
       "      <th>Survived</th>\n",
       "      <th>Pclass</th>\n",
       "      <th>Name</th>\n",
       "      <th>Sex</th>\n",
       "      <th>Age</th>\n",
       "      <th>SibSp</th>\n",
       "      <th>Parch</th>\n",
       "      <th>Ticket</th>\n",
       "      <th>Fare</th>\n",
       "      <th>Cabin</th>\n",
       "      <th>Embarked</th>\n",
       "      <th>Family</th>\n",
       "    </tr>\n",
       "  </thead>\n",
       "  <tbody>\n",
       "    <tr>\n",
       "      <th>0</th>\n",
       "      <td>1</td>\n",
       "      <td>0</td>\n",
       "      <td>3</td>\n",
       "      <td>Braund, Mr. Owen Harris</td>\n",
       "      <td>male</td>\n",
       "      <td>22.0</td>\n",
       "      <td>1</td>\n",
       "      <td>0</td>\n",
       "      <td>A/5 21171</td>\n",
       "      <td>7.2500</td>\n",
       "      <td>NaN</td>\n",
       "      <td>S</td>\n",
       "      <td>1</td>\n",
       "    </tr>\n",
       "    <tr>\n",
       "      <th>1</th>\n",
       "      <td>2</td>\n",
       "      <td>1</td>\n",
       "      <td>1</td>\n",
       "      <td>Cumings, Mrs. John Bradley (Florence Briggs Th...</td>\n",
       "      <td>female</td>\n",
       "      <td>38.0</td>\n",
       "      <td>1</td>\n",
       "      <td>0</td>\n",
       "      <td>PC 17599</td>\n",
       "      <td>71.2833</td>\n",
       "      <td>C85</td>\n",
       "      <td>C</td>\n",
       "      <td>1</td>\n",
       "    </tr>\n",
       "    <tr>\n",
       "      <th>2</th>\n",
       "      <td>3</td>\n",
       "      <td>1</td>\n",
       "      <td>3</td>\n",
       "      <td>Heikkinen, Miss. Laina</td>\n",
       "      <td>female</td>\n",
       "      <td>26.0</td>\n",
       "      <td>0</td>\n",
       "      <td>0</td>\n",
       "      <td>STON/O2. 3101282</td>\n",
       "      <td>7.9250</td>\n",
       "      <td>NaN</td>\n",
       "      <td>S</td>\n",
       "      <td>0</td>\n",
       "    </tr>\n",
       "  </tbody>\n",
       "</table>\n",
       "</div>"
      ],
      "text/plain": [
       "   PassengerId  Survived  Pclass  \\\n",
       "0            1         0       3   \n",
       "1            2         1       1   \n",
       "2            3         1       3   \n",
       "\n",
       "                                                Name     Sex   Age  SibSp  \\\n",
       "0                            Braund, Mr. Owen Harris    male  22.0      1   \n",
       "1  Cumings, Mrs. John Bradley (Florence Briggs Th...  female  38.0      1   \n",
       "2                             Heikkinen, Miss. Laina  female  26.0      0   \n",
       "\n",
       "   Parch            Ticket     Fare Cabin Embarked  Family  \n",
       "0      0         A/5 21171   7.2500   NaN        S       1  \n",
       "1      0          PC 17599  71.2833   C85        C       1  \n",
       "2      0  STON/O2. 3101282   7.9250   NaN        S       0  "
      ]
     },
     "execution_count": 25,
     "metadata": {},
     "output_type": "execute_result"
    }
   ],
   "source": [
    "titanic_df.head(3)"
   ]
  },
  {
   "cell_type": "code",
   "execution_count": 26,
   "metadata": {
    "collapsed": false
   },
   "outputs": [
    {
     "name": "stderr",
     "output_type": "stream",
     "text": [
      "C:\\Users\\t_ohd\\AppData\\Local\\Continuum\\Anaconda3\\lib\\site-packages\\pandas\\core\\indexing.py:140: SettingWithCopyWarning: \n",
      "A value is trying to be set on a copy of a slice from a DataFrame\n",
      "\n",
      "See the caveats in the documentation: http://pandas.pydata.org/pandas-docs/stable/indexing.html#indexing-view-versus-copy\n",
      "  self._setitem_with_indexer(indexer, value)\n"
     ]
    }
   ],
   "source": [
    "# if Family value is 0 then keep it zero otherwise make it one\n",
    "for i in range(len(titanic_df)) :\n",
    "    if titanic_df['Family'].iloc[i] == 0 :\n",
    "        titanic_df['Family'].iloc[i] = 0\n",
    "    else :\n",
    "        titanic_df['Family'].iloc[i] = 1\n",
    "        \n",
    "## Versus\n",
    "\n",
    "#titanic_df['Family'].loc[titanic_df['Family'] > 0] = 1\n",
    "#titanic_df['Family'].loc[titanic_df['Family'] == 0] = 0\n",
    "# ==>this is much more efficient way to do this\n",
    "# ==> .loc is usually followed by a index name but this is a series of true and false\n",
    "# ==> and in dataframe you can just give a value as if you are assigning it to a single value"
   ]
  },
  {
   "cell_type": "code",
   "execution_count": 27,
   "metadata": {
    "collapsed": false
   },
   "outputs": [
    {
     "data": {
      "text/plain": [
       "array([1, 0], dtype=int64)"
      ]
     },
     "execution_count": 27,
     "metadata": {},
     "output_type": "execute_result"
    }
   ],
   "source": [
    "titanic_df['Family'].unique()"
   ]
  },
  {
   "cell_type": "code",
   "execution_count": 28,
   "metadata": {
    "collapsed": false
   },
   "outputs": [],
   "source": [
    "# Drop Sibsp and Parch\n"
   ]
  },
  {
   "cell_type": "code",
   "execution_count": 29,
   "metadata": {
    "collapsed": false
   },
   "outputs": [
    {
     "data": {
      "text/plain": [
       "array([1, 0], dtype=int64)"
      ]
     },
     "execution_count": 29,
     "metadata": {},
     "output_type": "execute_result"
    }
   ],
   "source": [
    "titanic_df['Family'].unique()"
   ]
  },
  {
   "cell_type": "code",
   "execution_count": 30,
   "metadata": {
    "collapsed": false,
    "scrolled": false
   },
   "outputs": [
    {
     "data": {
      "text/html": [
       "<div>\n",
       "<table border=\"1\" class=\"dataframe\">\n",
       "  <thead>\n",
       "    <tr style=\"text-align: right;\">\n",
       "      <th></th>\n",
       "      <th>PassengerId</th>\n",
       "      <th>Survived</th>\n",
       "      <th>Pclass</th>\n",
       "      <th>Name</th>\n",
       "      <th>Sex</th>\n",
       "      <th>Age</th>\n",
       "      <th>Ticket</th>\n",
       "      <th>Fare</th>\n",
       "      <th>Cabin</th>\n",
       "      <th>Embarked</th>\n",
       "      <th>Family</th>\n",
       "    </tr>\n",
       "  </thead>\n",
       "  <tbody>\n",
       "    <tr>\n",
       "      <th>0</th>\n",
       "      <td>1</td>\n",
       "      <td>0</td>\n",
       "      <td>3</td>\n",
       "      <td>Braund, Mr. Owen Harris</td>\n",
       "      <td>male</td>\n",
       "      <td>22.0</td>\n",
       "      <td>A/5 21171</td>\n",
       "      <td>7.2500</td>\n",
       "      <td>NaN</td>\n",
       "      <td>S</td>\n",
       "      <td>1</td>\n",
       "    </tr>\n",
       "    <tr>\n",
       "      <th>1</th>\n",
       "      <td>2</td>\n",
       "      <td>1</td>\n",
       "      <td>1</td>\n",
       "      <td>Cumings, Mrs. John Bradley (Florence Briggs Th...</td>\n",
       "      <td>female</td>\n",
       "      <td>38.0</td>\n",
       "      <td>PC 17599</td>\n",
       "      <td>71.2833</td>\n",
       "      <td>C85</td>\n",
       "      <td>C</td>\n",
       "      <td>1</td>\n",
       "    </tr>\n",
       "    <tr>\n",
       "      <th>2</th>\n",
       "      <td>3</td>\n",
       "      <td>1</td>\n",
       "      <td>3</td>\n",
       "      <td>Heikkinen, Miss. Laina</td>\n",
       "      <td>female</td>\n",
       "      <td>26.0</td>\n",
       "      <td>STON/O2. 3101282</td>\n",
       "      <td>7.9250</td>\n",
       "      <td>NaN</td>\n",
       "      <td>S</td>\n",
       "      <td>0</td>\n",
       "    </tr>\n",
       "  </tbody>\n",
       "</table>\n",
       "</div>"
      ],
      "text/plain": [
       "   PassengerId  Survived  Pclass  \\\n",
       "0            1         0       3   \n",
       "1            2         1       1   \n",
       "2            3         1       3   \n",
       "\n",
       "                                                Name     Sex   Age  \\\n",
       "0                            Braund, Mr. Owen Harris    male  22.0   \n",
       "1  Cumings, Mrs. John Bradley (Florence Briggs Th...  female  38.0   \n",
       "2                             Heikkinen, Miss. Laina  female  26.0   \n",
       "\n",
       "             Ticket     Fare Cabin Embarked  Family  \n",
       "0         A/5 21171   7.2500   NaN        S       1  \n",
       "1          PC 17599  71.2833   C85        C       1  \n",
       "2  STON/O2. 3101282   7.9250   NaN        S       0  "
      ]
     },
     "execution_count": 30,
     "metadata": {},
     "output_type": "execute_result"
    }
   ],
   "source": [
    "# Drop Sibsp and Parch\n",
    "titanic_df.drop(['SibSp','Parch'], axis=1).head(3)\n",
    "# Now finally data is ready to compare survival rate of Alone passengers and with family passengers\n"
   ]
  },
  {
   "cell_type": "markdown",
   "metadata": {},
   "source": [
    "## Time to Visualize\n",
    "### plots referenced from [Seaborn](http://seaborn.pydata.org/examples/color_palettes.html)\n",
    "### the bar plot will compare the difference in survival rate based on passengers with and without family"
   ]
  },
  {
   "cell_type": "code",
   "execution_count": 32,
   "metadata": {
    "collapsed": false
   },
   "outputs": [
    {
     "data": {
      "text/plain": [
       "[<matplotlib.text.Text at 0xd48d470>, <matplotlib.text.Text at 0xd491710>]"
      ]
     },
     "execution_count": 32,
     "metadata": {},
     "output_type": "execute_result"
    },
    {
     "data": {
      "image/png": "[encoded data removed]",
      "text/plain": [
       "<matplotlib.figure.Figure at 0xcfa1a20>"
      ]
     },
     "metadata": {},
     "output_type": "display_data"
    }
   ],
   "source": [
    "# Set up the matplotlib figure\n",
    "# (ax1, ax2 ..) : number of graphs\n",
    "# sharex=True  : this allows me to set xaxis label for one and let it be shared\n",
    "f, (ax1, ax2, ax3) = plt.subplots(1, 3, sharex=True, figsize=(10, 6))\n",
    "\n",
    "## 1. Count\n",
    "# countplot : don't put y value. it's just a count\n",
    "sns.countplot(x='Family', palette=\"RdBu_r\", ax=ax1, data=titanic_df,order=[1,0])\n",
    "ax1.set_ylabel(\"Count\")\n",
    "\n",
    "## 2. Mean\n",
    "# barplot\n",
    "sns.barplot(x='Family', y='Survived', palette=\"RdBu_r\",order=[1,0], data=titanic_df, ax=ax2)\n",
    "\n",
    "#Q : what is that black vertical bar doing?\n",
    "# got my answer from \n",
    "# [Kaggle Example](https://www.kaggle.com/omarelgabry/titanic/a-journey-through-titanic/comments)\n",
    "\n",
    "## 3. Mean\n",
    "family_perc = titanic_df[[\"Family\", \"Survived\"]].groupby(['Family'],as_index=False).mean()\n",
    "\n",
    "\n",
    "# since I am using mean, it does not have std.\n",
    "sns.barplot(x='Family', y='Survived', palette=\"RdBu_r\",order=[1,0], data=family_perc, ax=ax3)\n",
    "\n",
    "# set X label\n",
    "ax1.set_xticklabels([\"With Family\",\"Alone\"], rotation=360)"
   ]
  },
  {
   "cell_type": "markdown",
   "metadata": {},
   "source": [
    "## Calculate the children entrophy 5: Family"
   ]
  },
  {
   "cell_type": "code",
   "execution_count": 266,
   "metadata": {
    "collapsed": false
   },
   "outputs": [
    {
     "name": "stdout",
     "output_type": "stream",
     "text": [
      "0.505649717514 0.983789772819\n",
      "0.494350282486 1.01639443825\n",
      "0.527173913043 0.92364911387\n",
      "0.472826086957 1.08061846021\n",
      "Family Entropy is:0.4484712414531313\n"
     ]
    }
   ],
   "source": [
    "wFamily = titanic_df[titanic_df.Family == 1][['Survived']]\n",
    "wFamily_proportion = len(class1) / len(titanic_df)\n",
    "woFamily = titanic_df[titanic_df.Pclass == 2][['Survived']]\n",
    "woFamily_proportion = len(class2) / len(titanic_df)\n",
    "\n",
    "Family_entropy = Entropy(wFamily.Survived)*wFamily_proportion + Entropy(woFamily.Survived)*woFamily_proportion\n",
    "\n",
    "print('Family Entropy is:{}'.format(Family_entropy))"
   ]
  },
  {
   "cell_type": "markdown",
   "metadata": {},
   "source": [
    "## Information Gain from Family attribute\n",
    "\n",
    "- Information Gain : 0.51\n",
    "- Significantly lowers the entropy of the dataset!"
   ]
  },
  {
   "cell_type": "code",
   "execution_count": 268,
   "metadata": {
    "collapsed": false
   },
   "outputs": [
    {
     "data": {
      "text/plain": [
       "0.5122366604225157"
      ]
     },
     "execution_count": 268,
     "metadata": {},
     "output_type": "execute_result"
    }
   ],
   "source": [
    "global_entropy - Family_entropy"
   ]
  },
  {
   "cell_type": "code",
   "execution_count": 95,
   "metadata": {
    "collapsed": true
   },
   "outputs": [],
   "source": [
    "### a natural measure of impurity for numeric values is variance. \n",
    "### if the set has all the same values for the numeric target variable , then the set is pure and the variance is zero.\n",
    "### "
   ]
  },
  {
   "cell_type": "markdown",
   "metadata": {},
   "source": [
    "# Continuous Variable\n",
    "- Insight from [Kaggle Example](https://www.kaggle.com/omarelgabry/titanic/a-journey-through-titanic/comments)"
   ]
  },
  {
   "cell_type": "code",
   "execution_count": 459,
   "metadata": {
    "collapsed": false,
    "scrolled": true
   },
   "outputs": [
    {
     "data": {
      "text/plain": [
       "Age\n",
       "0.42      1\n",
       "0.67      1\n",
       "0.75      2\n",
       "0.83      2\n",
       "0.92      1\n",
       "1.00      5\n",
       "2.00      3\n",
       "3.00      5\n",
       "4.00      7\n",
       "5.00      4\n",
       "6.00      2\n",
       "7.00      1\n",
       "8.00      2\n",
       "9.00      2\n",
       "10.00     0\n",
       "11.00     1\n",
       "12.00     1\n",
       "13.00     2\n",
       "14.00     3\n",
       "14.50     0\n",
       "15.00     4\n",
       "16.00     6\n",
       "17.00     6\n",
       "18.00     9\n",
       "19.00     9\n",
       "20.00     3\n",
       "20.50     0\n",
       "21.00     5\n",
       "22.00    11\n",
       "23.00     5\n",
       "         ..\n",
       "44.00     3\n",
       "45.00     5\n",
       "45.50     0\n",
       "46.00     0\n",
       "47.00     1\n",
       "48.00     6\n",
       "49.00     4\n",
       "50.00     5\n",
       "51.00     2\n",
       "52.00     3\n",
       "53.00     1\n",
       "54.00     3\n",
       "55.00     1\n",
       "55.50     0\n",
       "56.00     2\n",
       "57.00     0\n",
       "58.00     3\n",
       "59.00     0\n",
       "60.00     2\n",
       "61.00     0\n",
       "62.00     2\n",
       "63.00     2\n",
       "64.00     0\n",
       "65.00     0\n",
       "66.00     0\n",
       "70.00     0\n",
       "70.50     0\n",
       "71.00     0\n",
       "74.00     0\n",
       "80.00     1\n",
       "Name: Survived, dtype: int64"
      ]
     },
     "execution_count": 459,
     "metadata": {},
     "output_type": "execute_result"
    }
   ],
   "source": [
    "titanic_df.groupby(by=['Age'])['Survived'].sum()"
   ]
  },
  {
   "cell_type": "code",
   "execution_count": 42,
   "metadata": {
    "collapsed": false,
    "scrolled": false
   },
   "outputs": [
    {
     "data": {
      "text/plain": [
       "<matplotlib.text.Text at 0xd614080>"
      ]
     },
     "execution_count": 42,
     "metadata": {},
     "output_type": "execute_result"
    },
    {
     "data": {
      "image/png": "[encoded data removed]",
      "text/plain": [
       "<matplotlib.figure.Figure at 0xd4dbb00>"
      ]
     },
     "metadata": {},
     "output_type": "display_data"
    }
   ],
   "source": [
    "# Let's see how the population proportion looks like\n",
    "# round up all Age values\n",
    "titanic_df['Age'] = titanic_df['Age'].round()\n",
    "# there are quite a few NaNs. we already saw from .info that there are many.\n",
    "titanic_df['Age'].dropna().astype(int).hist(bins=80, grid=True, figsize=[18,4])\n",
    "plt.title('count_by_age')\n",
    "plt.xlabel('Age')\n",
    "plt.ylabel('count')"
   ]
  },
  {
   "cell_type": "markdown",
   "metadata": {},
   "source": [
    "## as_index : boolean, default True\n",
    "\n",
    "## [Pandas Groupby](http://pandas.pydata.org/pandas-docs/stable/generated/pandas.DataFrame.groupby.html)\n",
    "-  DataFrame.groupby(by=None, axis=0, level=None, as_index=True, sort=True, group_keys=True, squeeze=False, **kwargs)\n",
    "\n",
    "-    For aggregated output, return object with group labels as the index. Only relevant for DataFrame input. as_index=False is effectively “SQL-style” grouped output\n"
   ]
  },
  {
   "cell_type": "markdown",
   "metadata": {},
   "source": [
    "## dealing with missing data\n",
    "### I just simply dropped the missing data\n",
    "### below graph will give a good understading about where to draw a line to categorize the continuous variable into categorical variable based on survival rate."
   ]
  },
  {
   "cell_type": "code",
   "execution_count": 36,
   "metadata": {
    "collapsed": false,
    "scrolled": false
   },
   "outputs": [
    {
     "data": {
      "text/plain": [
       "<matplotlib.axes._subplots.AxesSubplot at 0xea18048>"
      ]
     },
     "execution_count": 36,
     "metadata": {},
     "output_type": "execute_result"
    },
    {
     "data": {
      "image/png": "[encoded data removed]",
      "text/plain": [
       "<matplotlib.figure.Figure at 0xdbae7b8>"
      ]
     },
     "metadata": {},
     "output_type": "display_data"
    }
   ],
   "source": [
    "## Survival Rate\n",
    "titanic_age = titanic_df[[\"Age\",\"Survived\"]].dropna().astype(int).groupby(['Age'], as_index=False).mean()\n",
    "#dropna() : drop all the na\n",
    "#astype(int) : all data types to int\n",
    "#groupby\n",
    "#Q as_index=False : only after I use this, the graph starts to work\n",
    "\n",
    "f, (ax1, ax2) = plt.subplots(2, 1, figsize=(18, 10))\n",
    "\n",
    "## Count\n",
    "#titanic_df['Age'].dropna().astype(int).hist(bins=80, grid=True, figsize=[18,4]\n",
    "titanic_age_count = titanic_df[['Age','Survived']].dropna().astype(int)\n",
    "#sns.countplot(x='Age', ax=ax1,palette=\"Blues_d\", data=titanic_age_count)\n",
    "sns.countplot(x='Age', ax=ax1,color=\"skyblue\", data=titanic_age_count)\n",
    "\n",
    "\n",
    "sns.barplot(x='Age', y='Survived',ax=ax2, data=titanic_age)\n",
    "#sns.barplot(x='Family', y='Survived', palette=\"RdBu_r\",order=[1,0], data=titanic_df, ax=ax2)"
   ]
  },
  {
   "cell_type": "markdown",
   "metadata": {},
   "source": [
    "## Calculating Entropy \n",
    "\n",
    "- Children : 0~15\n",
    "- Adult : 16~"
   ]
  },
  {
   "cell_type": "code",
   "execution_count": 367,
   "metadata": {
    "collapsed": false
   },
   "outputs": [
    {
     "name": "stdout",
     "output_type": "stream",
     "text": [
      "0.590361445783 0.760329587232\n",
      "0.409638554217 1.2875765901\n",
      "0.618066561014 0.694165881233\n",
      "0.381933438986 1.38860685875\n",
      "Children Entropy is:0.7703846245542734\n"
     ]
    }
   ],
   "source": [
    "Children = titanic_df[(titanic_df.Age <= 15)][['Survived']]\n",
    "Children_proportion = len(Children) / len(titanic_df)\n",
    "Adult = titanic_df[(titanic_df.Age > 15)][['Survived']]\n",
    "Adult_proportion = len(Adult) / len(titanic_df)\n",
    "\n",
    "Children_entropy = Entropy(Children.Survived)*Children_proportion + Entropy(Adult.Survived)*Adult_proportion \n",
    "print('Children Entropy is:{}'.format(Children_entropy))\n"
   ]
  },
  {
   "cell_type": "markdown",
   "metadata": {},
   "source": [
    "## Information Gain from Age"
   ]
  },
  {
   "cell_type": "code",
   "execution_count": 366,
   "metadata": {
    "collapsed": false
   },
   "outputs": [
    {
     "data": {
      "text/plain": [
       "0.18646237865652793"
      ]
     },
     "execution_count": 366,
     "metadata": {},
     "output_type": "execute_result"
    }
   ],
   "source": [
    "global_entropy - Children_entropy"
   ]
  },
  {
   "cell_type": "code",
   "execution_count": null,
   "metadata": {
    "collapsed": false
   },
   "outputs": [],
   "source": []
  },
  {
   "cell_type": "markdown",
   "metadata": {
    "collapsed": false
   },
   "source": [
    "## Calculate the children entrophy 6: Fare"
   ]
  },
  {
   "cell_type": "code",
   "execution_count": 373,
   "metadata": {
    "collapsed": false
   },
   "outputs": [
    {
     "data": {
      "text/html": [
       "<div>\n",
       "<table border=\"1\" class=\"dataframe\">\n",
       "  <thead>\n",
       "    <tr style=\"text-align: right;\">\n",
       "      <th></th>\n",
       "      <th>Fare</th>\n",
       "      <th>Survived</th>\n",
       "    </tr>\n",
       "  </thead>\n",
       "  <tbody>\n",
       "    <tr>\n",
       "      <th>0</th>\n",
       "      <td>7.2500</td>\n",
       "      <td>0</td>\n",
       "    </tr>\n",
       "    <tr>\n",
       "      <th>1</th>\n",
       "      <td>71.2833</td>\n",
       "      <td>1</td>\n",
       "    </tr>\n",
       "    <tr>\n",
       "      <th>2</th>\n",
       "      <td>7.9250</td>\n",
       "      <td>1</td>\n",
       "    </tr>\n",
       "    <tr>\n",
       "      <th>3</th>\n",
       "      <td>53.1000</td>\n",
       "      <td>1</td>\n",
       "    </tr>\n",
       "    <tr>\n",
       "      <th>4</th>\n",
       "      <td>8.0500</td>\n",
       "      <td>0</td>\n",
       "    </tr>\n",
       "  </tbody>\n",
       "</table>\n",
       "</div>"
      ],
      "text/plain": [
       "      Fare  Survived\n",
       "0   7.2500         0\n",
       "1  71.2833         1\n",
       "2   7.9250         1\n",
       "3  53.1000         1\n",
       "4   8.0500         0"
      ]
     },
     "execution_count": 373,
     "metadata": {},
     "output_type": "execute_result"
    }
   ],
   "source": [
    "titanic_df[['Fare','Survived']].head()"
   ]
  },
  {
   "cell_type": "code",
   "execution_count": 443,
   "metadata": {
    "collapsed": false
   },
   "outputs": [
    {
     "data": {
      "text/html": [
       "<div>\n",
       "<table border=\"1\" class=\"dataframe\">\n",
       "  <thead>\n",
       "    <tr style=\"text-align: right;\">\n",
       "      <th></th>\n",
       "      <th>Fare</th>\n",
       "      <th>Survived</th>\n",
       "    </tr>\n",
       "  </thead>\n",
       "  <tbody>\n",
       "    <tr>\n",
       "      <th>0</th>\n",
       "      <td>0</td>\n",
       "      <td>0.066667</td>\n",
       "    </tr>\n",
       "    <tr>\n",
       "      <th>1</th>\n",
       "      <td>4</td>\n",
       "      <td>0.000000</td>\n",
       "    </tr>\n",
       "    <tr>\n",
       "      <th>2</th>\n",
       "      <td>5</td>\n",
       "      <td>0.000000</td>\n",
       "    </tr>\n",
       "    <tr>\n",
       "      <th>3</th>\n",
       "      <td>6</td>\n",
       "      <td>0.000000</td>\n",
       "    </tr>\n",
       "    <tr>\n",
       "      <th>4</th>\n",
       "      <td>7</td>\n",
       "      <td>0.169231</td>\n",
       "    </tr>\n",
       "  </tbody>\n",
       "</table>\n",
       "</div>"
      ],
      "text/plain": [
       "   Fare  Survived\n",
       "0     0  0.066667\n",
       "1     4  0.000000\n",
       "2     5  0.000000\n",
       "3     6  0.000000\n",
       "4     7  0.169231"
      ]
     },
     "execution_count": 443,
     "metadata": {},
     "output_type": "execute_result"
    }
   ],
   "source": [
    "titanic_df['Fare'] = titanic_df['Fare'].round().astype(int)\n",
    "\n",
    "titanic_fare = titanic_df[['Fare']]\n",
    "titanic_fare_surv = titanic_df[['Fare','Survived']].groupby(['Fare'], as_index=False).mean()\n",
    "\n",
    "\n",
    "## as_index=False : EUREKA!!! if I set this as True then 'Fare' is index\n",
    "## if I set this as false, then 'Fare' becomes just another column\n",
    "\n",
    "titanic_df.head()\n",
    "titanic_fare_surv.head()"
   ]
  },
  {
   "cell_type": "markdown",
   "metadata": {},
   "source": [
    "## Below two charts will show how the Fare is proportioned and also give a rough idea how to divde the semi continuous fare variable into categorical varible based on survivate rate"
   ]
  },
  {
   "cell_type": "code",
   "execution_count": 471,
   "metadata": {
    "collapsed": false
   },
   "outputs": [
    {
     "data": {
      "text/plain": [
       "<matplotlib.axes._subplots.AxesSubplot at 0x2dfb8278>"
      ]
     },
     "execution_count": 471,
     "metadata": {},
     "output_type": "execute_result"
    },
    {
     "data": {
      "image/png": "[encoded data removed]",
      "text/plain": [
       "<matplotlib.figure.Figure at 0x2a088438>"
      ]
     },
     "metadata": {},
     "output_type": "display_data"
    }
   ],
   "source": [
    "f, (ax1, ax2) = plt.subplots(2, 1, figsize=(25, 10))\n",
    "#matplotlib\n",
    "sns.countplot(x='Fare', ax=ax1, data=titanic_fare, color='green')\n",
    "sns.barplot(x='Fare', y='Survived', ax=ax2, data=titanic_fare_surv)"
   ]
  },
  {
   "cell_type": "markdown",
   "metadata": {},
   "source": [
    "# Divide the Fare into three Categories\n",
    "- by trial and error, this seems to be the optimal divide"
   ]
  },
  {
   "cell_type": "code",
   "execution_count": 472,
   "metadata": {
    "collapsed": false
   },
   "outputs": [
    {
     "name": "stdout",
     "output_type": "stream",
     "text": [
      "0.803125 0.316303545693\n",
      "0.196875 2.34464817139\n",
      "0.587378640777 0.767637289909\n",
      "0.412621359223 1.27710959105\n",
      "0.685534591195 0.544698630507\n",
      "0.314465408805 1.66902676551\n",
      "Fare Entropy is:0.8694760826902925\n"
     ]
    }
   ],
   "source": [
    "low_fare = titanic_df[titanic_df.Fare < 10][['Survived']]\n",
    "low_fare_proportion = len(low_fare) / len(titanic_df)\n",
    "mid_fare = titanic_df[(titanic_df.Fare >= 10) & (titanic_df.Fare<51)][['Survived']]\n",
    "mid_fare_proportion = len(mid_fare) / len(titanic_df)\n",
    "high_fare = titanic_df[(titanic_df.Fare>=51)][['Survived']]\n",
    "high_fare_proportion = len(high_fare) / len(titanic_df)\n",
    "\n",
    "Fare_entropy = Entropy(low_fare.Survived)*low_fare_proportion + Entropy(mid_fare.Survived)*mid_fare_proportion + Entropy(high_fare.Survived)*high_fare_proportion\n",
    "\n",
    "print('Fare Entropy is:{}'.format(Fare_entropy))"
   ]
  },
  {
   "cell_type": "markdown",
   "metadata": {},
   "source": [
    "## Information Grain from Fare"
   ]
  },
  {
   "cell_type": "code",
   "execution_count": 473,
   "metadata": {
    "collapsed": false
   },
   "outputs": [
    {
     "data": {
      "text/plain": [
       "0.09123181918535439"
      ]
     },
     "execution_count": 473,
     "metadata": {},
     "output_type": "execute_result"
    }
   ],
   "source": [
    "global_entropy - Fare_entropy"
   ]
  },
  {
   "cell_type": "code",
   "execution_count": 435,
   "metadata": {
    "collapsed": false
   },
   "outputs": [
    {
     "name": "stdout",
     "output_type": "stream",
     "text": [
      "Survived    0.196875\n",
      "dtype: float64\n",
      "Survived    0.412621\n",
      "dtype: float64\n",
      "Survived    0.685535\n",
      "dtype: float64\n"
     ]
    }
   ],
   "source": [
    "print(low_fare.mean())\n",
    "print(mid_fare.mean())\n",
    "print(high_fare.mean())"
   ]
  },
  {
   "cell_type": "markdown",
   "metadata": {},
   "source": [
    "## Visualize the difference"
   ]
  },
  {
   "cell_type": "code",
   "execution_count": 436,
   "metadata": {
    "collapsed": true
   },
   "outputs": [],
   "source": [
    "def categorize_fare(df):\n",
    "    if df < 10:\n",
    "        df = \"Low\"\n",
    "    elif df < 51:\n",
    "        df = \"Mid\"\n",
    "    else:\n",
    "        df = \"High\"\n",
    "    return df"
   ]
  },
  {
   "cell_type": "code",
   "execution_count": 437,
   "metadata": {
    "collapsed": true
   },
   "outputs": [],
   "source": [
    "# adding column into a dataframe\n",
    "titanic_df[[\"Fare_cat\"]] = titanic_df[[\"Fare\"]].applymap(categorize_fare)"
   ]
  },
  {
   "cell_type": "code",
   "execution_count": 452,
   "metadata": {
    "collapsed": false
   },
   "outputs": [],
   "source": [
    "titanic_fare_cat = titanic_df[[\"Fare_cat\",\"Survived\"]].groupby([\"Fare_cat\"], as_index=False) #.mean()\n",
    "# groupby and .mean has only been necessary to remove the vertical bar line."
   ]
  },
  {
   "cell_type": "code",
   "execution_count": 464,
   "metadata": {
    "collapsed": false
   },
   "outputs": [
    {
     "data": {
      "text/plain": [
       "<seaborn.axisgrid.FacetGrid at 0x27777710>"
      ]
     },
     "execution_count": 464,
     "metadata": {},
     "output_type": "execute_result"
    },
    {
     "data": {
      "image/png": "[encoded data removed]",
      "text/plain": [
       "<matplotlib.figure.Figure at 0x27777908>"
      ]
     },
     "metadata": {},
     "output_type": "display_data"
    }
   ],
   "source": [
    "# Draw a pointplot to show pulse as a function of three categorical factors\n",
    "#g = sns.factorplot(x=\"time\", y=\"pulse\", hue=\"kind\", col=\"diet\", data=df,\n",
    "                   #capsize=.2, palette=\"YlGnBu_d\", size=6, aspect=.75)\n",
    "#g.despine(left=True)\n",
    "\n",
    "# why does the below two graphs different \n",
    "#sns.factorplot(x=\"Fare_cat\", y=\"Survived\", data=titanic_fare_cat, order = ['High', 'Mid', 'Low'],palette=\"YlGnBu_d\", size=4, aspect=.75)\n",
    "sns.factorplot(x= \"Fare_cat\", y= \"Survived\", data=titanic_df, order = ['High', 'Mid', 'Low'],palette=\"YlGnBu_d\", size=4, aspect=1)\n",
    "\n",
    "#Q# why does "
   ]
  },
  {
   "cell_type": "code",
   "execution_count": null,
   "metadata": {
    "collapsed": true
   },
   "outputs": [],
   "source": []
  },
  {
   "cell_type": "markdown",
   "metadata": {
    "collapsed": false
   },
   "source": [
    "# Comparing Information Gain from five attributes"
   ]
  },
  {
   "cell_type": "code",
   "execution_count": 474,
   "metadata": {
    "collapsed": false
   },
   "outputs": [
    {
     "name": "stdout",
     "output_type": "stream",
     "text": [
      "IG from Age is 0.19032327732137355\n",
      "IG from Family is 0.5122366604225157\n",
      "IG from Pclass is 0.0838310452960116\n",
      "IG from Sex is 0.2176601066606142\n",
      "IG from Fare is 0.09123181918535439\n"
     ]
    }
   ],
   "source": [
    "print( \"IG from Age is {}\".format(global_entropy- Children_entropy))\n",
    "print( \"IG from Family is {}\".format(global_entropy- Family_entropy))\n",
    "print( \"IG from Pclass is {}\".format(global_entropy- Pclass_entropy))\n",
    "print( \"IG from Sex is {}\".format(global_entropy- Sex_entropy))\n",
    "print( \"IG from Fare is {}\".format(global_entropy- Fare_entropy))"
   ]
  },
  {
   "cell_type": "markdown",
   "metadata": {},
   "source": [
    "# Conclusion"
   ]
  },
  {
   "cell_type": "markdown",
   "metadata": {},
   "source": [
    "- based on the Information Gain, the order of attributes that affect the target value that most is\n",
    "- `Family` > `Sex` > `Age` > `Fare` > `Pclass`\n",
    "- Having a family, being a vessel in terms of sex and age contributed the most in terms of survival.\n",
    "- Fare and Pclass contributed less than all the human values in terms of survival. \n",
    "- in conclusion, still people are good\n",
    "- I do not see any specific limitations on dataset\n",
    "- I would like to further create a machine learning model and predict whether a given new passenger is likely to survive or not."
   ]
  },
  {
   "cell_type": "code",
   "execution_count": null,
   "metadata": {
    "collapsed": true
   },
   "outputs": [],
   "source": []
  }
 ],
 "metadata": {
  "anaconda-cloud": {},
  "kernelspec": {
   "display_name": "Python [conda root]",
   "language": "python",
   "name": "conda-root-py"
  },
  "language_info": {
   "codemirror_mode": {
    "name": "ipython",
    "version": 3
   },
   "file_extension": ".py",
   "mimetype": "text/x-python",
   "name": "python",
   "nbconvert_exporter": "python",
   "pygments_lexer": "ipython3",
   "version": "3.5.2"
  }
 },
 "nbformat": 4,
 "nbformat_minor": 1
}
